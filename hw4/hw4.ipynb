{
 "cells": [
  {
   "cell_type": "code",
   "execution_count": 183,
   "metadata": {},
   "outputs": [
    {
     "name": "stdout",
     "output_type": "stream",
     "text": [
      "torch.Size([0])\n"
     ]
    }
   ],
   "source": [
    "torch.dist(torch.tensor([1,1.0]), torch.tensor([0,0.0]))**2\n",
    "x = torch.tensor([1,2]).numpy()\n",
    "x1 = torch.tensor([])\n",
    "print(x1.shape)"
   ]
  },
  {
   "cell_type": "code",
   "execution_count": 199,
   "metadata": {},
   "outputs": [
    {
     "data": {
      "image/png": "[encoded data removed]",
      "text/plain": [
       "<Figure size 432x288 with 1 Axes>"
      ]
     },
     "metadata": {
      "needs_background": "light"
     },
     "output_type": "display_data"
    },
    {
     "name": "stdout",
     "output_type": "stream",
     "text": [
      "tensor([[ 0.2911, -0.5545],\n",
      "        [ 0.1694, -0.0518]])\n",
      "tensor([[ 2., -2.],\n",
      "        [ 2., -2.]])\n",
      "tensor(82.2666)\n"
     ]
    },
    {
     "data": {
      "image/png": "[encoded data removed]",
      "text/plain": [
       "<Figure size 432x288 with 1 Axes>"
      ]
     },
     "metadata": {
      "needs_background": "light"
     },
     "output_type": "display_data"
    },
    {
     "data": {
      "image/png": "[encoded data removed]",
      "text/plain": [
       "<Figure size 432x288 with 1 Axes>"
      ]
     },
     "metadata": {
      "needs_background": "light"
     },
     "output_type": "display_data"
    },
    {
     "name": "stdout",
     "output_type": "stream",
     "text": [
      "tensor([[ 1.9163, -2.0952],\n",
      "        [-1.9143,  2.0540]])\n",
      "tensor([[ 0.2911, -0.5545],\n",
      "        [ 0.1694, -0.0518]])\n",
      "tensor(4.5600)\n"
     ]
    },
    {
     "data": {
      "image/png": "[encoded data removed]",
      "text/plain": [
       "<Figure size 432x288 with 1 Axes>"
      ]
     },
     "metadata": {
      "needs_background": "light"
     },
     "output_type": "display_data"
    },
    {
     "data": {
      "image/png": "[encoded data removed]",
      "text/plain": [
       "<Figure size 432x288 with 1 Axes>"
      ]
     },
     "metadata": {
      "needs_background": "light"
     },
     "output_type": "display_data"
    },
    {
     "name": "stdout",
     "output_type": "stream",
     "text": [
      "tensor([[ 1.9163, -2.0952],\n",
      "        [-1.9143,  2.0540]])\n",
      "tensor([[ 1.9163, -2.0952],\n",
      "        [-1.9143,  2.0540]])\n",
      "tensor(4.5600)\n"
     ]
    },
    {
     "data": {
      "image/png": "[encoded data removed]",
      "text/plain": [
       "<Figure size 432x288 with 1 Axes>"
      ]
     },
     "metadata": {
      "needs_background": "light"
     },
     "output_type": "display_data"
    },
    {
     "name": "stdout",
     "output_type": "stream",
     "text": [
      "2\n",
      "tensor(4.5600)\n",
      "tensor([[1., 0.],\n",
      "        [1., 0.],\n",
      "        [1., 0.],\n",
      "        [1., 0.],\n",
      "        [1., 0.],\n",
      "        [1., 0.],\n",
      "        [1., 0.],\n",
      "        [1., 0.],\n",
      "        [1., 0.],\n",
      "        [1., 0.],\n",
      "        [0., 1.],\n",
      "        [0., 1.],\n",
      "        [0., 1.],\n",
      "        [0., 1.],\n",
      "        [0., 1.],\n",
      "        [0., 1.],\n",
      "        [0., 1.],\n",
      "        [0., 1.],\n",
      "        [0., 1.],\n",
      "        [0., 1.]])\n"
     ]
    },
    {
     "data": {
      "text/plain": [
       "tensor([[ 1.9163, -2.0952],\n",
       "        [-1.9143,  2.0540]])"
      ]
     },
     "execution_count": 199,
     "metadata": {},
     "output_type": "execute_result"
    }
   ],
   "source": [
    "import torch\n",
    "import hw4_utils\n",
    "import matplotlib.pyplot as plt\n",
    "\n",
    "def k_means(X=None, init_c=None, n_iters=50):\n",
    "    \"\"\"K-Means.\n",
    "\n",
    "    Argument:\n",
    "        X: 2D data points, shape [2, N].\n",
    "        init_c: initial centroids, shape [2, 2]. Each column is a centroid. #two centroids\n",
    "    \n",
    "    Return:\n",
    "        c: shape [2, 2]. Each column is a centroid.\n",
    "    \"\"\"\n",
    "\n",
    "    \n",
    "    # r_matrix = torch.argmin()\n",
    "    if X is None:\n",
    "        X, init_c = hw4_utils.load_data()\n",
    "#     print(init_c)\n",
    "    d1, N = X.shape\n",
    "    d2, K = init_c.shape\n",
    "    cost = 0\n",
    "    new_c = torch.empty(2,2)\n",
    "\n",
    "    old_c = init_c\n",
    "    \n",
    "    #plotting 0 step\n",
    "#     hw4_utils.vis_cluster(c1, x1[:,1:-1], c2, x2[:,1:-1])\n",
    "    \n",
    "#     print(x2.shape)\n",
    "    count=0\n",
    "    while True:\n",
    "        x1 = torch.tensor([0,0]).reshape(2,-1)\n",
    "        x2 = torch.tensor([0,0]).reshape(2,-1)\n",
    "        r_matrix = torch.zeros(N,K)\n",
    "\n",
    "        for i in range (N):#data\n",
    "            distance = 999999\n",
    "            #assign r matrix            \n",
    "            for k in range(K):#centroid\n",
    "                new_distance = torch.dist(X[:,i], old_c[:,k])\n",
    "\n",
    "                if distance > new_distance:\n",
    "                    distance = new_distance\n",
    "                    index = k\n",
    "            r_matrix[i,index] = 1\n",
    "            if index == 1:\n",
    "#                 x1.append(X[:,i])\n",
    "                \n",
    "                x1 = torch.cat((x1, X[:,i].reshape(2,-1)), dim=1)\n",
    "            else:\n",
    "                x2 = torch.cat((x2, X[:,i].reshape(2,-1)), dim=1)\n",
    "#         if count == 0:        \n",
    "        hw4_utils.vis_cluster(old_c[:,0].reshape(d2,-1), x1[:,1:-1], old_c[:,1].reshape(d2,-1), x2[:,1:-1])                \n",
    "        #assgin new centroids\n",
    "        new_c =   X @ r_matrix\n",
    "        for k in range (K):\n",
    "            new_c[:,k] /= sum(r_matrix[:,k])\n",
    "    \n",
    "        print(new_c)\n",
    "        print(old_c)\n",
    "        c1 = new_c[:,0].reshape(d2,-1)\n",
    "        c2 = new_c[:,1].reshape(d2,-1)\n",
    "        \n",
    "        #checking cost\n",
    "        for i in range (N):\n",
    "            for k in range (K):\n",
    "                cost+= 1/2 *r_matrix[i,k] * torch.dist(X[:,i], new_c[:,k])**2\n",
    "        print (cost)        \n",
    "        cost = 0\n",
    "        \n",
    "        hw4_utils.vis_cluster(c1, x1[:,1:-1], c2, x2[:,1:-1])\n",
    "        if torch.dist(new_c, old_c) == 0:\n",
    "            \n",
    "#             return new_c\n",
    "            print (count)\n",
    "            break\n",
    "        else:\n",
    "            count+=1\n",
    "            old_c = new_c.clone()\n",
    "\n",
    "            \n",
    "        \n",
    "#     init_c[:,0] = new_c[:,1]\n",
    "#     init_c[:,1] = new_c[:,0]\n",
    "    \n",
    "#     plt.plot(X[0,:], X[1,:], 'ro')\n",
    "#     plt.plot(init_c[0,:], init_c[1,:] ,'bo')\n",
    "#     return init_c\n",
    "    \n",
    "    for i in range (N):\n",
    "        for k in range (K):\n",
    "            cost+= 1/2 * r_matrix[i,k] * torch.dist(X[:,i], new_c[:,k])**2\n",
    "    print (cost)\n",
    "    print(r_matrix)\n",
    "    return new_c\n",
    "k_means()\n",
    "   \n"
   ]
  },
  {
   "cell_type": "code",
   "execution_count": 132,
   "metadata": {
    "scrolled": true
   },
   "outputs": [
    {
     "name": "stdout",
     "output_type": "stream",
     "text": [
      "tensor([[1., 0.],\n",
      "        [0., 1.],\n",
      "        [0., 1.],\n",
      "        [0., 1.],\n",
      "        [1., 0.],\n",
      "        [1., 0.],\n",
      "        [0., 1.],\n",
      "        [1., 0.],\n",
      "        [1., 0.],\n",
      "        [1., 0.],\n",
      "        [1., 0.],\n",
      "        [0., 1.],\n",
      "        [1., 0.],\n",
      "        [0., 1.],\n",
      "        [1., 0.],\n",
      "        [0., 1.],\n",
      "        [0., 1.],\n",
      "        [1., 0.],\n",
      "        [0., 1.],\n",
      "        [1., 0.]])\n",
      "tensor(11.)\n",
      "tensor(9.)\n",
      "tensor([[1., 0.],\n",
      "        [1., 0.],\n",
      "        [1., 0.],\n",
      "        [1., 0.],\n",
      "        [1., 0.],\n",
      "        [1., 0.],\n",
      "        [1., 0.],\n",
      "        [1., 0.],\n",
      "        [1., 0.],\n",
      "        [1., 0.],\n",
      "        [0., 1.],\n",
      "        [0., 1.],\n",
      "        [0., 1.],\n",
      "        [0., 1.],\n",
      "        [0., 1.],\n",
      "        [0., 1.],\n",
      "        [0., 1.],\n",
      "        [0., 1.],\n",
      "        [0., 1.],\n",
      "        [0., 1.]])\n",
      "tensor(10.)\n",
      "tensor(10.)\n",
      "tensor([[1., 0.],\n",
      "        [1., 0.],\n",
      "        [1., 0.],\n",
      "        [1., 0.],\n",
      "        [1., 0.],\n",
      "        [1., 0.],\n",
      "        [1., 0.],\n",
      "        [1., 0.],\n",
      "        [1., 0.],\n",
      "        [1., 0.],\n",
      "        [0., 1.],\n",
      "        [0., 1.],\n",
      "        [0., 1.],\n",
      "        [0., 1.],\n",
      "        [0., 1.],\n",
      "        [0., 1.],\n",
      "        [0., 1.],\n",
      "        [0., 1.],\n",
      "        [0., 1.],\n",
      "        [0., 1.]])\n",
      "tensor(10.)\n",
      "tensor(10.)\n",
      "tensor([[1., 0.],\n",
      "        [1., 0.],\n",
      "        [1., 0.],\n",
      "        [1., 0.],\n",
      "        [1., 0.],\n",
      "        [1., 0.],\n",
      "        [1., 0.],\n",
      "        [1., 0.],\n",
      "        [1., 0.],\n",
      "        [1., 0.],\n",
      "        [0., 1.],\n",
      "        [0., 1.],\n",
      "        [0., 1.],\n",
      "        [0., 1.],\n",
      "        [0., 1.],\n",
      "        [0., 1.],\n",
      "        [0., 1.],\n",
      "        [0., 1.],\n",
      "        [0., 1.],\n",
      "        [0., 1.]])\n",
      "tensor(10.)\n",
      "tensor(10.)\n"
     ]
    },
    {
     "data": {
      "text/plain": [
       "tensor([[-2.0952,  1.9163],\n",
       "        [ 2.0540, -1.9143]])"
      ]
     },
     "execution_count": 132,
     "metadata": {},
     "output_type": "execute_result"
    },
    {
     "data": {
      "image/png": "[encoded data removed]",
      "text/plain": [
       "<Figure size 432x288 with 1 Axes>"
      ]
     },
     "metadata": {
      "needs_background": "light"
     },
     "output_type": "display_data"
    }
   ],
   "source": [
    "import torch\n",
    "import hw4_utils\n",
    "import matplotlib.pyplot as plt\n",
    "\n",
    "def k_means(X=None, init_c=None, n_iters=50):\n",
    "    \"\"\"K-Means.\n",
    "\n",
    "    Argument:\n",
    "        X: 2D data points, shape [2, N].\n",
    "        init_c: initial centroids, shape [2, 2]. Each column is a centroid. #two centroids\n",
    "    \n",
    "    Return:\n",
    "        c: shape [2, 2]. Each column is a centroid.\n",
    "    \"\"\"\n",
    "\n",
    "    \n",
    "    # r_matrix = torch.argmin()\n",
    "    if X is None:\n",
    "        X, init_c = hw4_utils.load_data()\n",
    "#     print(init_c)\n",
    "    d1, N = X.shape\n",
    "    d2, K = init_c.shape\n",
    " \n",
    "\n",
    "    \n",
    "    \n",
    "    \n",
    "#     new_c = torch.empty(2,2)\n",
    "#     old_c = init_c   \n",
    "    new_c = init_c\n",
    "#     print(new_c)\n",
    "#     while True:\n",
    "    for num in range(4):\n",
    "\n",
    "        r_matrix = torch.zeros(N,K)\n",
    "#         print(r_matrix)\n",
    "        for i in range (N):#data\n",
    "            distance = 999999\n",
    "            \n",
    "\n",
    "            #assign r matrix\n",
    "            \n",
    "            for k in range(K):#centroid\n",
    "                new_distance = torch.dist(X[:,i], new_c[:,k])\n",
    "#                 print(new_distance)\n",
    "                if distance > new_distance:\n",
    "                    distance = new_distance\n",
    "                    index = k\n",
    "            r_matrix[i,index] = 1\n",
    "            \n",
    "        print(r_matrix)\n",
    "\n",
    "        #assgin new centroids\n",
    "        new_c =   X @ r_matrix\n",
    "        for k in range (K):\n",
    "            print(sum(r_matrix[:,k]))\n",
    "            new_c[:,k] /= sum(r_matrix[:,k])\n",
    "\n",
    "#         old_c = new_c.clone()\n",
    "\n",
    "    init_c[:,0] = new_c[:,1]\n",
    "    init_c[:,1] = new_c[:,0]\n",
    "#     print(new_c.shape)\n",
    "#     hw4_utils.vis_cluster(new_c[:,0], X[0,:], new_c[:,1], X[1,:])\n",
    "    \n",
    "    plt.plot(X[0,:], X[1,:], 'ro')\n",
    "    plt.plot(init_c[0,:], init_c[1,:] ,'bo')\n",
    "    return init_c\n",
    "        \n",
    "k_means()\n",
    "   \n"
   ]
  },
  {
   "cell_type": "code",
   "execution_count": 75,
   "metadata": {},
   "outputs": [
    {
     "data": {
      "text/plain": [
       "tensor([[3, 0],\n",
       "        [9, 0]])"
      ]
     },
     "execution_count": 75,
     "metadata": {},
     "output_type": "execute_result"
    }
   ],
   "source": [
    "m = torch.tensor([[1,2],[4,5]])\n",
    "n = torch.tensor([[1, 0], [1,0]])\n",
    "\n",
    "m@n"
   ]
  }
 ],
 "metadata": {
  "kernelspec": {
   "display_name": "Python 3",
   "language": "python",
   "name": "python3"
  },
  "language_info": {
   "codemirror_mode": {
    "name": "ipython",
    "version": 3
   },
   "file_extension": ".py",
   "mimetype": "text/x-python",
   "name": "python",
   "nbconvert_exporter": "python",
   "pygments_lexer": "ipython3",
   "version": "3.7.6"
  }
 },
 "nbformat": 4,
 "nbformat_minor": 4
}
